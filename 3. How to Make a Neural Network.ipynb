{
 "cells": [
  {
   "cell_type": "code",
   "execution_count": 1,
   "metadata": {
    "collapsed": true
   },
   "outputs": [],
   "source": [
    "from numpy import exp, array, random, dot"
   ]
  },
  {
   "cell_type": "code",
   "execution_count": 14,
   "metadata": {
    "collapsed": true
   },
   "outputs": [],
   "source": [
    "class NeuralNetwork():\n",
    "    def __init__(self):\n",
    "        # Seed the random number generator\n",
    "        random.seed(1)\n",
    "        self.synaptic_weights = 2 * random.random((3,1)) - 1 # Since we have 3 inputs and 1 output\n",
    "        \n",
    "    def __sigmoid(self, x):\n",
    "        return 1/(1+exp(-x))\n",
    "    \n",
    "    def __sigmoid_derivative(self, x):\n",
    "        # Gradient of our sigmoid curve\n",
    "        return x * (1-x)\n",
    "    \n",
    "    def train(self, training_set_inputs, training_set_outputs, number_of_training_iterations):\n",
    "        for iteration in range(number_of_training_iterations):\n",
    "            # Forward pass through our network\n",
    "            outputs = self.predict(training_set_inputs)\n",
    "            # Calculate the error\n",
    "            error = training_set_outputs - outputs\n",
    "            # Multiply the error by the input and again by the gradient of the sigmoid curve\n",
    "            adjustments = dot(training_set_inputs.T, error * self.__sigmoid_derivative(outputs))\n",
    "            self.synaptic_weights += adjustments\n",
    "            \n",
    "    def predict(self, inputs):\n",
    "        return self.__sigmoid(dot(inputs, self.synaptic_weights))"
   ]
  },
  {
   "cell_type": "code",
   "execution_count": 15,
   "metadata": {
    "collapsed": false
   },
   "outputs": [
    {
     "name": "stdout",
     "output_type": "stream",
     "text": [
      "Randomly initialised starting weights\n",
      "[[-0.16595599]\n",
      " [ 0.44064899]\n",
      " [-0.99977125]]\n",
      "New weights after training\n",
      "[[ 9.67299303]\n",
      " [-0.2078435 ]\n",
      " [-4.62963669]]\n",
      "Predicting [1,0,0]\n",
      "[[ 0.99993704]]\n"
     ]
    }
   ],
   "source": [
    "if __name__ == '__main__':\n",
    "    # Initialise a single neuron neural network\n",
    "    neural_network = NeuralNetwork()\n",
    "    print('Randomly initialised starting weights')\n",
    "    print(neural_network.synaptic_weights)\n",
    "    \n",
    "    # The training set, we'll build an XOR type gate...\n",
    "    training_set_inputs = array([[0,0,1], [1,1,1], [1,0,1], [0,1,1]])\n",
    "    training_set_outputs = array([[0,1,1,0]]).T\n",
    "    \n",
    "    # Train the neural network 10,000 times...\n",
    "    neural_network.train(training_set_inputs, training_set_outputs, 10000)\n",
    "    print('New weights after training')\n",
    "    print(neural_network.synaptic_weights)\n",
    "    \n",
    "    # Predict a new input...\n",
    "    print('Predicting [1,0,0]')\n",
    "    print(neural_network.predict(array([[1,0,0]])))\n",
    "    "
   ]
  },
  {
   "cell_type": "code",
   "execution_count": null,
   "metadata": {
    "collapsed": true
   },
   "outputs": [],
   "source": []
  },
  {
   "cell_type": "code",
   "execution_count": null,
   "metadata": {
    "collapsed": true
   },
   "outputs": [],
   "source": []
  }
 ],
 "metadata": {
  "kernelspec": {
   "display_name": "Python 3",
   "language": "python",
   "name": "python3"
  },
  "language_info": {
   "codemirror_mode": {
    "name": "ipython",
    "version": 3
   },
   "file_extension": ".py",
   "mimetype": "text/x-python",
   "name": "python",
   "nbconvert_exporter": "python",
   "pygments_lexer": "ipython3",
   "version": "3.6.0"
  }
 },
 "nbformat": 4,
 "nbformat_minor": 2
}
