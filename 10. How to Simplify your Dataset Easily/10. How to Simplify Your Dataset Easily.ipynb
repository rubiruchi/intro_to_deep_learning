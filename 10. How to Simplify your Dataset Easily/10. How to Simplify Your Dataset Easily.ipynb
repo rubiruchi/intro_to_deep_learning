{
 "cells": [
  {
   "cell_type": "markdown",
   "metadata": {},
   "source": [
    "# How to simplify your dataset easily\n",
    "\n",
    "We will explore dimensionality reduction techniques. We'll build PCA from scratch, and compare it to TSNE and LDA.\n",
    "\n",
    "Our purpose is to reduce the dimensionality of our data so it is easier to visualise\n",
    "\n",
    "Reasons why:\n",
    "\n",
    "1. Data is huge! We want to be efficient with space\n",
    "2. Computing efficiency - We can learn faster with less dimensions\n",
    "3. Human readable - By reducing our dimensions, we can understand our data better"
   ]
  },
  {
   "cell_type": "code",
   "execution_count": 2,
   "metadata": {},
   "outputs": [],
   "source": [
    "import numpy as np\n",
    "np.random.seed(1)"
   ]
  },
  {
   "cell_type": "code",
   "execution_count": 5,
   "metadata": {},
   "outputs": [
    {
     "name": "stdout",
     "output_type": "stream",
     "text": [
      "[[-0.75439794 -0.29809284  1.13162939 -1.39649634  0.16003707 -2.02220122\n",
      "   0.23009474 -0.20075807  0.19829972  0.37756379  1.19891788 -0.63873041\n",
      "  -0.34385368  0.69803203  0.40349164  0.16938243 -0.26621851  0.31515939\n",
      "   0.35054598 -1.61577235]\n",
      " [ 1.25286816  0.48851815  1.51981682 -1.44411381  0.87616892 -0.30620401\n",
      "   0.76201118  0.18656139  0.11900865  0.12182127  0.18515642  0.42349435\n",
      "   0.04359686 -0.44712856  0.59357852  0.74055645  0.03261455  0.84616065\n",
      "  -1.31228341  1.12141771]\n",
      " [ 0.51292982 -0.07557171  2.18557541 -0.50446586  0.31563495  0.82797464\n",
      "  -0.22232814  0.41005165 -0.67066229  1.12948391 -0.37528495  0.07734007\n",
      "  -0.62000084  1.2245077  -1.09491185 -0.9537006  -1.37311732 -0.85951594\n",
      "  -0.03869551  0.40890054]]\n"
     ]
    }
   ],
   "source": [
    "mu_vec1 = np.array([0,0,0]) # Sample values\n",
    "cov_mat1 = np.array([[1,0,0],[0,1,0],[0,0,1]]) # Sample covariance\n",
    "\n",
    "# We'll use the mean and covariance to generate our first dataset...\n",
    "\n",
    "class1_sample = np.random.multivariate_normal(mu_vec1, cov_mat1, 20).T\n",
    "\n",
    "# We generated a multivariate normal distribution (gaussian distribution). \n",
    "# It's a 3 dimensional matrix of values (3 columns, with 20 rows each).\n",
    "# It's a distribution of possibilities\n",
    "\n",
    "print class1_sample"
   ]
  },
  {
   "cell_type": "code",
   "execution_count": 6,
   "metadata": {},
   "outputs": [
    {
     "name": "stdout",
     "output_type": "stream",
     "text": [
      "[[  9.75383044e-01   2.96710175e+00   2.62765075e+00   1.86334532e+00\n",
      "   -2.30058136e-01   3.76469270e-01   1.80186103e+00   8.98254127e-01\n",
      "    1.52946532e+00   1.61838026e+00   6.89883226e-01   3.18697965e+00\n",
      "    8.63555256e-01  -1.22018729e-01   1.24879916e+00   8.25296840e-01\n",
      "    3.19069973e+00   1.90148689e+00   1.04366899e+00   7.12692137e-01]\n",
      " [  2.24838381e-01  -8.57981864e-01   1.33801170e+00   8.19079698e-01\n",
      "    1.55053750e+00   1.52057634e+00   1.04656730e+00   1.86888616e+00\n",
      "    1.13770121e+00   1.23249456e+00  -1.43483776e+00   1.44136444e+00\n",
      "    8.80945812e-01   4.82905542e-01   7.03358848e-01   1.98633519e+00\n",
      "   -8.96360923e-01   3.52832571e+00   7.73685757e-01   1.68006984e+00]\n",
      " [  2.27375593e+00   2.23616403e+00  -1.99268032e-01   3.96079372e-01\n",
      "    1.79280687e+00  -1.44341390e-01   8.13430228e-01   1.75041164e+00\n",
      "    1.07782113e+00   1.68255141e+00   2.03882460e+00   8.99844767e-01\n",
      "    1.01740941e+00   2.97317235e-03   1.49521132e+00   1.21353390e+00\n",
      "    3.53083312e-01   7.51365222e-01   2.33145711e+00   6.80198401e-01]]\n"
     ]
    }
   ],
   "source": [
    "mu_vec2 = np.array([1,1,1]) # Sample values\n",
    "cov_mat2 = np.array([[1,0,0],[0,1,0],[0,0,1]]) # Sample covariance\n",
    "\n",
    "# We'll use the mean and covariance to generate our first dataset...\n",
    "\n",
    "class2_sample = np.random.multivariate_normal(mu_vec2, cov_mat2, 20).T\n",
    "print class2_sample"
   ]
  },
  {
   "cell_type": "code",
   "execution_count": 13,
   "metadata": {},
   "outputs": [
    {
     "ename": "ImportError",
     "evalue": "No module named mpl_toolkits.mplot3d",
     "output_type": "error",
     "traceback": [
      "\u001b[0;31m---------------------------------------------------------------------------\u001b[0m",
      "\u001b[0;31mImportError\u001b[0m                               Traceback (most recent call last)",
      "\u001b[0;32m<ipython-input-13-0f665e71a69b>\u001b[0m in \u001b[0;36m<module>\u001b[0;34m()\u001b[0m\n\u001b[1;32m      1\u001b[0m \u001b[0;32mfrom\u001b[0m \u001b[0mmatplotlib\u001b[0m \u001b[0;32mimport\u001b[0m \u001b[0mpyplot\u001b[0m \u001b[0;32mas\u001b[0m \u001b[0mplt\u001b[0m\u001b[0;34m\u001b[0m\u001b[0m\n\u001b[0;32m----> 2\u001b[0;31m \u001b[0;32mfrom\u001b[0m \u001b[0mmpl_toolkits\u001b[0m\u001b[0;34m.\u001b[0m\u001b[0mmplot3d\u001b[0m \u001b[0;32mimport\u001b[0m \u001b[0mAxes3D\u001b[0m\u001b[0;34m\u001b[0m\u001b[0m\n\u001b[0m\u001b[1;32m      3\u001b[0m \u001b[0mfig\u001b[0m \u001b[0;34m=\u001b[0m \u001b[0mplt\u001b[0m\u001b[0;34m.\u001b[0m\u001b[0mfigure\u001b[0m\u001b[0;34m(\u001b[0m\u001b[0mfigsize\u001b[0m\u001b[0;34m=\u001b[0m\u001b[0;34m(\u001b[0m\u001b[0;36m8\u001b[0m\u001b[0;34m,\u001b[0m\u001b[0;36m8\u001b[0m\u001b[0;34m)\u001b[0m\u001b[0;34m)\u001b[0m\u001b[0;34m\u001b[0m\u001b[0m\n\u001b[1;32m      4\u001b[0m \u001b[0;34m\u001b[0m\u001b[0m\n\u001b[1;32m      5\u001b[0m \u001b[0;31m# These are sublot grid parameters encoded as a single integer\u001b[0m\u001b[0;34m\u001b[0m\u001b[0;34m\u001b[0m\u001b[0m\n",
      "\u001b[0;31mImportError\u001b[0m: No module named mpl_toolkits.mplot3d"
     ]
    }
   ],
   "source": [
    "from matplotlib import pyplot as plt\n",
    "fig = plt.figure(figsize=(8,8))\n",
    "\n",
    "# These are sublot grid parameters encoded as a single integer\n",
    "ax = fig.add_subplot(111, projection='3d')\n",
    "plt.rcParams['legend.fontsize'] = 10\n",
    "\n",
    "# Plot samples\n",
    "ax.plot(class1_sample[0,:], class1_sample[1, :], class1_sample[2,:], 'o', markersize=8, color='blue', alpha=0.5, label='class1')\n",
    "ax.plot(class2_sample[0,:], class2_sample[1, :], class2_sample[2,:], 'o', markersize=8, color='green', alpha=0.5, label='class2')\n",
    "ax.legend(loc='upper right')\n",
    "plt.show()"
   ]
  },
  {
   "cell_type": "code",
   "execution_count": 22,
   "metadata": {},
   "outputs": [
    {
     "data": {
      "text/plain": [
       "array([[ -7.54397941e-01,   1.25286816e+00,   5.12929820e-01],\n",
       "       [ -2.98092835e-01,   4.88518147e-01,  -7.55717130e-02],\n",
       "       [  1.13162939e+00,   1.51981682e+00,   2.18557541e+00],\n",
       "       [ -1.39649634e+00,  -1.44411381e+00,  -5.04465863e-01],\n",
       "       [  1.60037069e-01,   8.76168921e-01,   3.15634947e-01],\n",
       "       [ -2.02220122e+00,  -3.06204013e-01,   8.27974643e-01],\n",
       "       [  2.30094735e-01,   7.62011180e-01,  -2.22328143e-01],\n",
       "       [ -2.00758069e-01,   1.86561391e-01,   4.10051647e-01],\n",
       "       [  1.98299720e-01,   1.19008646e-01,  -6.70662286e-01],\n",
       "       [  3.77563786e-01,   1.21821271e-01,   1.12948391e+00],\n",
       "       [  1.19891788e+00,   1.85156417e-01,  -3.75284950e-01],\n",
       "       [ -6.38730407e-01,   4.23494354e-01,   7.73400683e-02],\n",
       "       [ -3.43853676e-01,   4.35968568e-02,  -6.20000844e-01],\n",
       "       [  6.98032034e-01,  -4.47128565e-01,   1.22450770e+00],\n",
       "       [  4.03491642e-01,   5.93578523e-01,  -1.09491185e+00],\n",
       "       [  1.69382433e-01,   7.40556451e-01,  -9.53700602e-01],\n",
       "       [ -2.66218506e-01,   3.26145467e-02,  -1.37311732e+00],\n",
       "       [  3.15159392e-01,   8.46160648e-01,  -8.59515941e-01],\n",
       "       [  3.50545979e-01,  -1.31228341e+00,  -3.86955093e-02],\n",
       "       [ -1.61577235e+00,   1.12141771e+00,   4.08900538e-01],\n",
       "       [  9.75383044e-01,   2.24838381e-01,   2.27375593e+00],\n",
       "       [  2.96710175e+00,  -8.57981864e-01,   2.23616403e+00],\n",
       "       [  2.62765075e+00,   1.33801170e+00,  -1.99268032e-01],\n",
       "       [  1.86334532e+00,   8.19079698e-01,   3.96079372e-01],\n",
       "       [ -2.30058136e-01,   1.55053750e+00,   1.79280687e+00],\n",
       "       [  3.76469270e-01,   1.52057634e+00,  -1.44341390e-01],\n",
       "       [  1.80186103e+00,   1.04656730e+00,   8.13430228e-01],\n",
       "       [  8.98254127e-01,   1.86888616e+00,   1.75041164e+00],\n",
       "       [  1.52946532e+00,   1.13770121e+00,   1.07782113e+00],\n",
       "       [  1.61838026e+00,   1.23249456e+00,   1.68255141e+00],\n",
       "       [  6.89883226e-01,  -1.43483776e+00,   2.03882460e+00],\n",
       "       [  3.18697965e+00,   1.44136444e+00,   8.99844767e-01],\n",
       "       [  8.63555256e-01,   8.80945812e-01,   1.01740941e+00],\n",
       "       [ -1.22018729e-01,   4.82905542e-01,   2.97317235e-03],\n",
       "       [  1.24879916e+00,   7.03358848e-01,   1.49521132e+00],\n",
       "       [  8.25296840e-01,   1.98633519e+00,   1.21353390e+00],\n",
       "       [  3.19069973e+00,  -8.96360923e-01,   3.53083312e-01],\n",
       "       [  1.90148689e+00,   3.52832571e+00,   7.51365222e-01],\n",
       "       [  1.04366899e+00,   7.73685757e-01,   2.33145711e+00],\n",
       "       [  7.12692137e-01,   1.68006984e+00,   6.80198401e-01]])"
      ]
     },
     "execution_count": 22,
     "metadata": {},
     "output_type": "execute_result"
    }
   ],
   "source": [
    "# Merge data into big ass dataset\n",
    "all_samples = np.concatenate([class1_sample, class2_sample], axis=1)\n",
    "all_samples.T"
   ]
  },
  {
   "cell_type": "code",
   "execution_count": 23,
   "metadata": {},
   "outputs": [
    {
     "name": "stdout",
     "output_type": "stream",
     "text": [
      "[[ 0.64163822]\n",
      " [ 0.62075309]\n",
      " [ 0.5691864 ]]\n"
     ]
    }
   ],
   "source": [
    "# step 4 - compute the dimensional mean vector. It will help compute the covariance matrix\n",
    "# We'll find the mean for each feature\n",
    "\n",
    "mean_x = np.mean(all_samples[0,:]) \n",
    "mean_y = np.mean(all_samples[1,:])\n",
    "mean_z = np.mean(all_samples[2,:])\n",
    "\n",
    "# 3d mean vector\n",
    "mean_vector = np.array(([[mean_x], [mean_y], [mean_z]]))\n",
    "print mean_vector"
   ]
  },
  {
   "cell_type": "code",
   "execution_count": 25,
   "metadata": {},
   "outputs": [
    {
     "name": "stdout",
     "output_type": "stream",
     "text": [
      "[[ 55.72268233   8.56379035  15.6311867 ]\n",
      " [  8.56379035  38.93427549   4.92664064]\n",
      " [ 15.6311867    4.92664064  39.61912037]]\n"
     ]
    }
   ],
   "source": [
    "# Step 5 - compute the covariance matrix\n",
    "# This shows the relationships between all the different features\n",
    "\n",
    "cov_mat = np.zeros((3,3))\n",
    "\n",
    "for i in range(all_samples.shape[1]):\n",
    "    cov_mat += (all_samples[:,i].reshape(3,1) - mean_vector).dot((all_samples[:,i].reshape(3,1) - mean_vector).T)\n",
    "    \n",
    "print cov_mat    "
   ]
  },
  {
   "cell_type": "code",
   "execution_count": 27,
   "metadata": {},
   "outputs": [
    {
     "name": "stdout",
     "output_type": "stream",
     "text": [
      "Values\n",
      "[ 68.54813467  30.0773638   35.65057972]\n",
      "Vectors\n",
      "[[-0.81100975 -0.53005318  0.24760212]\n",
      " [-0.31639546  0.04139469 -0.94772379]\n",
      " [-0.4920946   0.84695343  0.20127792]]\n"
     ]
    }
   ],
   "source": [
    "# Step 6 - compute the eigenvectors and eigen values\n",
    "\n",
    "# We want to work out the principle component of the data, the line that we can recreate everything from \n",
    "# given some distribution and a line, we can recreate our dataset.\n",
    "# The line and the eigenvector (where that line should be) represent the essence of our data\n",
    "\n",
    "eig_val, eig_vec = np.linalg.eig(cov_mat)\n",
    "\n",
    "print \"Values\" # Magnitude of our direction\n",
    "print eig_val\n",
    "print \"Vectors\" # Direction\n",
    "print eig_vec"
   ]
  },
  {
   "cell_type": "code",
   "execution_count": 29,
   "metadata": {},
   "outputs": [
    {
     "name": "stdout",
     "output_type": "stream",
     "text": [
      "68.5481346667\n",
      "35.6505797213\n",
      "30.0773637982\n"
     ]
    }
   ],
   "source": [
    "# Eigenvalues and eigenvectors are linked\n",
    "# We'll create eigenpairs and sort them\n",
    "\n",
    "eig_pairs = [(np.abs(eig_val[i]), eig_vec[:,1])\n",
    "            for i in range(len(eig_val))]\n",
    "\n",
    "# Sort the (eigenvalue, eigenvector) tuples from high to low\n",
    "eig_pairs.sort()\n",
    "eig_pairs.reverse()\n",
    "\n",
    "# Print out the list\n",
    "for i in eig_pairs:\n",
    "    print(i[0])"
   ]
  },
  {
   "cell_type": "code",
   "execution_count": 35,
   "metadata": {},
   "outputs": [
    {
     "name": "stdout",
     "output_type": "stream",
     "text": [
      "[[-0.53005318 -0.53005318]\n",
      " [ 0.04139469  0.04139469]\n",
      " [ 0.84695343  0.84695343]]\n"
     ]
    }
   ],
   "source": [
    "# Step 8 - choose k eigvectors\n",
    "\n",
    "matrix_w= np.hstack((eig_pairs[0][1].reshape(3,1),\n",
    "                    eig_pairs[1][1].reshape(3,1)))\n",
    "\n",
    "print matrix_w"
   ]
  },
  {
   "cell_type": "code",
   "execution_count": 37,
   "metadata": {},
   "outputs": [
    {
     "name": "stdout",
     "output_type": "stream",
     "text": [
      "[[ 0.88616079  0.11422139  1.31416917  0.25317959  0.21876868  1.76045492\n",
      "  -0.27872081  0.46142975 -0.66820279  0.76153414 -0.94567461  0.42159494\n",
      "  -0.34104643  0.64859815 -1.11664037 -0.86686658 -1.02050639 -0.85999465\n",
      "  -0.27290287  1.24918572  1.41806761  0.28568918 -1.5061788  -0.61830578\n",
      "   1.70455099 -0.25885538 -0.22282232  1.08375665  0.14926113  0.61823381\n",
      "   1.30172002 -0.86747725  0.44043466  0.08718428  0.63355971  0.67257921\n",
      "  -1.4293     -0.22546387  1.45346201  0.26787761]\n",
      " [ 0.88616079  0.11422139  1.31416917  0.25317959  0.21876868  1.76045492\n",
      "  -0.27872081  0.46142975 -0.66820279  0.76153414 -0.94567461  0.42159494\n",
      "  -0.34104643  0.64859815 -1.11664037 -0.86686658 -1.02050639 -0.85999465\n",
      "  -0.27290287  1.24918572  1.41806761  0.28568918 -1.5061788  -0.61830578\n",
      "   1.70455099 -0.25885538 -0.22282232  1.08375665  0.14926113  0.61823381\n",
      "   1.30172002 -0.86747725  0.44043466  0.08718428  0.63355971  0.67257921\n",
      "  -1.4293     -0.22546387  1.45346201  0.26787761]]\n"
     ]
    }
   ],
   "source": [
    "# Step 9 - transform our data using this eigenpair dataset\n",
    "transformed = matrix_w.T.dot(all_samples)\n",
    "print transformed"
   ]
  },
  {
   "cell_type": "code",
   "execution_count": 38,
   "metadata": {},
   "outputs": [],
   "source": [
    "# We just performed principle component analysis! We changed our data from three dimensions to two."
   ]
  },
  {
   "cell_type": "code",
   "execution_count": 42,
   "metadata": {},
   "outputs": [
    {
     "data": {
      "image/png": "[encoded data removed]",
      "text/plain": [
       "<matplotlib.figure.Figure at 0x107ee8410>"
      ]
     },
     "metadata": {},
     "output_type": "display_data"
    }
   ],
   "source": [
    "plt.plot(transformed[0, 0:20], transformed[1, 0:20], 'o', markersize=7, color=\"green\", alpha=0.5, label='class1')\n",
    "plt.plot(transformed[0, 20:40], transformed[1, 20:40], '^', markersize=7, color=\"red\", alpha=0.5, label='class2')\n",
    "plt.xlim([-5,5])\n",
    "plt.ylim([-5,5])\n",
    "plt.xlabel('x_values')\n",
    "plt.ylabel('y_values')\n",
    "plt.legend()\n",
    "plt.title(\"transformed samples with class labels\")\n",
    "plt.show()"
   ]
  },
  {
   "cell_type": "markdown",
   "metadata": {},
   "source": [
    "# Dimensionality Reduction Techniques\n",
    "\n",
    "## PCA\n",
    "\n",
    "For the best generic dimensionality reduction method is PCA. Generally used for unsupervised data.\n",
    "\n",
    "## LDA (Linear discriminant analysis)\n",
    "\n",
    "Best for supervised data. Same as PCA, but instead of computing mean vector for the whole dataset, we compute them for each of the classes.\n",
    "\n",
    "## TSNE\n",
    "\n",
    "The best for visualisation. "
   ]
  }
 ],
 "metadata": {
  "kernelspec": {
   "display_name": "Python 2",
   "language": "python",
   "name": "python2"
  },
  "language_info": {
   "codemirror_mode": {
    "name": "ipython",
    "version": 2
   },
   "file_extension": ".py",
   "mimetype": "text/x-python",
   "name": "python",
   "nbconvert_exporter": "python",
   "pygments_lexer": "ipython2",
   "version": "2.7.14"
  }
 },
 "nbformat": 4,
 "nbformat_minor": 2
}
